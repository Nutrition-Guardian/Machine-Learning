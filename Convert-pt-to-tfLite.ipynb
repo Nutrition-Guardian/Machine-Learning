{
  "nbformat": 4,
  "nbformat_minor": 0,
  "metadata": {
    "colab": {
      "provenance": []
    },
    "kernelspec": {
      "name": "python3",
      "display_name": "Python 3"
    },
    "language_info": {
      "name": "python"
    }
  },
  "cells": [
    {
      "cell_type": "code",
      "source": [
        "!pip install ultralytics"
      ],
      "metadata": {
        "id": "LQ9HmdseTC05"
      },
      "execution_count": null,
      "outputs": []
    },
    {
      "cell_type": "code",
      "source": [
        "import ultralytics\n",
        "import torch\n",
        "from ultralytics import YOLO"
      ],
      "metadata": {
        "id": "XJTC72tqR293"
      },
      "execution_count": null,
      "outputs": []
    },
    {
      "cell_type": "code",
      "source": [
        "!pip install tensorflow==2.13.1"
      ],
      "metadata": {
        "id": "XnH_tbXAV84s"
      },
      "execution_count": null,
      "outputs": []
    },
    {
      "cell_type": "code",
      "source": [
        "!yolo export model=best.pt format=tflite"
      ],
      "metadata": {
        "id": "P-sjN1hGVXVZ"
      },
      "execution_count": null,
      "outputs": []
    },
    {
      "cell_type": "code",
      "source": [
        "!yolo predict task=detect model=best_saved_model/best_float32.tflite imgsz=450 source=/content/yolov5/best_saved_model/assets/gurame-goreng-819x1024.jpg"
      ],
      "metadata": {
        "id": "6nL5j7lJW7Zg"
      },
      "execution_count": null,
      "outputs": []
    },
    {
      "cell_type": "code",
      "source": [
        "!tflite_convert --saved_model_dir=best_float32.tflite --output_file=model_quantized.tflite --inference_type=QUANTIZED_UINT8 --input_arrays=input --output_arrays=output --mean_values=128 --std_dev_values=128"
      ],
      "metadata": {
        "id": "vNBcBjlNdoki"
      },
      "execution_count": null,
      "outputs": []
    },
    {
      "cell_type": "code",
      "source": [
        "%cd best_saved_model"
      ],
      "metadata": {
        "id": "nLLW1eOKehfh"
      },
      "execution_count": null,
      "outputs": []
    }
  ]
}
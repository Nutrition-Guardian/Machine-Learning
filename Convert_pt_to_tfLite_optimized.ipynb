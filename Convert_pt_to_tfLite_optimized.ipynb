{
  "nbformat": 4,
  "nbformat_minor": 0,
  "metadata": {
    "colab": {
      "provenance": []
    },
    "kernelspec": {
      "name": "python3",
      "display_name": "Python 3"
    },
    "language_info": {
      "name": "python"
    }
  },
  "cells": [
    {
      "cell_type": "code",
      "source": [
        "!pip install ultralytics"
      ],
      "metadata": {
        "id": "LQ9HmdseTC05"
      },
      "execution_count": null,
      "outputs": []
    },
    {
      "cell_type": "code",
      "source": [
        "import ultralytics\n",
        "import torch\n",
        "from ultralytics import YOLO"
      ],
      "metadata": {
        "id": "XJTC72tqR293"
      },
      "execution_count": null,
      "outputs": []
    },
    {
      "cell_type": "code",
      "source": [
        "!pip install tensorflow==2.13.1"
      ],
      "metadata": {
        "id": "XnH_tbXAV84s"
      },
      "execution_count": null,
      "outputs": []
    },
    {
      "cell_type": "code",
      "source": [
        "!yolo export model=best.pt format=tflite optimize=True int8=True"
      ],
      "metadata": {
        "id": "P-sjN1hGVXVZ"
      },
      "execution_count": null,
      "outputs": []
    },
    {
      "cell_type": "code",
      "source": [
        "!yolo predict task=detect model=best_saved_model/best_int8.tflite imgsz=450 source=/content/best_saved_model/assets/gurame-goreng-819x1024.jpg"
      ],
      "metadata": {
        "id": "6nL5j7lJW7Zg"
      },
      "execution_count": null,
      "outputs": []
    }
  ]
}